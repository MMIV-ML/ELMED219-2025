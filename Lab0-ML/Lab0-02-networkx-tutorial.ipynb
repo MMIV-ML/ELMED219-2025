{
 "cells": [
  {
   "cell_type": "markdown",
   "id": "bf3dcb5a",
   "metadata": {},
   "source": [
    "**Lab0-02-networkx-tutorial.ipynb**   ( ELMED219 / BMED365 )\n",
    "\n",
    "Last updated: 2024-12-16,  A. Lundervold\n",
    "\n",
    "<img src=\"./assets/networkx_banner.svg\" width=\"200\">\n",
    "\n",
    "\n",
    "This guide, modified from the official [NetworkX](https://github.com/networkx/networkx) [tutorial](https://networkx.org/documentation/latest/tutorial.html) ([LICENSE.txt](https://github.com/networkx/networkx/blob/main/LICENSE.txt)), can help you start working with NetworkX and graphs in Python. It assumes that you have a basic knowledge of Python and graphs. If you are new to Python, you may want to check out the [Python tutorial](https://docs.python.org/3/tutorial/index.html) first."
   ]
  },
  {
   "cell_type": "code",
   "execution_count": 2,
   "id": "73334876",
   "metadata": {},
   "outputs": [
    {
     "name": "stdout",
     "output_type": "stream",
     "text": [
      "networkx: 3.4.2\n"
     ]
    }
   ],
   "source": [
    "import networkx as nx\n",
    "print(f'networkx: {nx.__version__}')"
   ]
  },
  {
   "cell_type": "markdown",
   "id": "7d335d10",
   "metadata": {},
   "source": [
    "## Tutorial\n",
    "\n",
    "This guide, modified from the official [NetworkX](https://github.com/networkx/networkx) [tutorial](https://networkx.org/documentation/latest/tutorial.html) ([LICENSE.txt](https://github.com/networkx/networkx/blob/main/LICENSE.txt)), can help you start working with NetworkX \n",
    "\n",
    "### Creating a graph\n",
    "\n",
    "Create an empty graph with no nodes and no edges."
   ]
  },
  {
   "cell_type": "code",
   "execution_count": 3,
   "id": "b4fb2ac2",
   "metadata": {
    "execution": {
     "iopub.execute_input": "2023-12-22T14:44:33.794802Z",
     "iopub.status.busy": "2023-12-22T14:44:33.794324Z",
     "iopub.status.idle": "2023-12-22T14:44:33.889569Z",
     "shell.execute_reply": "2023-12-22T14:44:33.889031Z"
    }
   },
   "outputs": [],
   "source": [
    "import networkx as nx\n",
    "G = nx.Graph()"
   ]
  },
  {
   "cell_type": "markdown",
   "id": "cfe94463",
   "metadata": {},
   "source": [
    "By definition, a `Graph` is a collection of nodes (vertices) along with\n",
    "identified pairs of nodes (called edges, links, etc).  In NetworkX, nodes can\n",
    "be any [hashable](https://docs.python.org/3/glossary.html#term-hashable) object e.g., a text string, an image, an XML object,\n",
    "another Graph, a customized node object, etc.\n",
    "\n",
    "# Nodes\n",
    "\n",
    "The graph `G` can be grown in several ways.  NetworkX includes many\n",
    "graph generator functions and\n",
    "facilities to read and write graphs in many formats.\n",
    "To get started though we’ll look at simple manipulations.  You can add one node\n",
    "at a time,"
   ]
  },
  {
   "cell_type": "code",
   "execution_count": 4,
   "id": "8af6e290",
   "metadata": {
    "execution": {
     "iopub.execute_input": "2023-12-22T14:44:33.891798Z",
     "iopub.status.busy": "2023-12-22T14:44:33.891467Z",
     "iopub.status.idle": "2023-12-22T14:44:33.894230Z",
     "shell.execute_reply": "2023-12-22T14:44:33.893673Z"
    }
   },
   "outputs": [],
   "source": [
    "G.add_node(1)"
   ]
  },
  {
   "cell_type": "markdown",
   "id": "31784d09",
   "metadata": {},
   "source": [
    "or add nodes from any [iterable](https://docs.python.org/3/glossary.html#term-iterable) container, such as a list"
   ]
  },
  {
   "cell_type": "code",
   "execution_count": 5,
   "id": "b0cb632d",
   "metadata": {
    "execution": {
     "iopub.execute_input": "2023-12-22T14:44:33.896465Z",
     "iopub.status.busy": "2023-12-22T14:44:33.896053Z",
     "iopub.status.idle": "2023-12-22T14:44:33.898872Z",
     "shell.execute_reply": "2023-12-22T14:44:33.898446Z"
    }
   },
   "outputs": [],
   "source": [
    "G.add_nodes_from([2, 3])"
   ]
  },
  {
   "cell_type": "markdown",
   "id": "5000132b",
   "metadata": {},
   "source": [
    "You can also add nodes along with node\n",
    "attributes if your container yields 2-tuples of the form\n",
    "`(node, node_attribute_dict)`:\n",
    "\n",
    "```\n",
    ">>> G.add_nodes_from([\n",
    "...     (4, {\"color\": \"red\"}),\n",
    "...     (5, {\"color\": \"green\"}),\n",
    "... ])\n",
    "```\n",
    "\n",
    "Node attributes are discussed further below.\n",
    "\n",
    "Nodes from one graph can be incorporated into another:"
   ]
  },
  {
   "cell_type": "code",
   "execution_count": 6,
   "id": "86d229e3",
   "metadata": {
    "execution": {
     "iopub.execute_input": "2023-12-22T14:44:33.900978Z",
     "iopub.status.busy": "2023-12-22T14:44:33.900584Z",
     "iopub.status.idle": "2023-12-22T14:44:33.903658Z",
     "shell.execute_reply": "2023-12-22T14:44:33.903192Z"
    }
   },
   "outputs": [],
   "source": [
    "H = nx.path_graph(10)\n",
    "G.add_nodes_from(H)"
   ]
  },
  {
   "cell_type": "markdown",
   "id": "980555d7",
   "metadata": {},
   "source": [
    "`G` now contains the nodes of `H` as nodes of `G`.\n",
    "In contrast, you could use the graph `H` as a node in `G`."
   ]
  },
  {
   "cell_type": "code",
   "execution_count": 7,
   "id": "9b4b6b7d",
   "metadata": {
    "execution": {
     "iopub.execute_input": "2023-12-22T14:44:33.905773Z",
     "iopub.status.busy": "2023-12-22T14:44:33.905368Z",
     "iopub.status.idle": "2023-12-22T14:44:33.908042Z",
     "shell.execute_reply": "2023-12-22T14:44:33.907597Z"
    }
   },
   "outputs": [],
   "source": [
    "G.add_node(H)"
   ]
  },
  {
   "cell_type": "markdown",
   "id": "eed7173d",
   "metadata": {},
   "source": [
    "The graph `G` now contains `H` as a node.  This flexibility is very powerful as\n",
    "it allows graphs of graphs, graphs of files, graphs of functions and much more.\n",
    "It is worth thinking about how to structure your application so that the nodes\n",
    "are useful entities.  Of course you can always use a unique identifier in `G`\n",
    "and have a separate dictionary keyed by identifier to the node information if\n",
    "you prefer.\n",
    "\n",
    "# Edges\n",
    "\n",
    "`G` can also be grown by adding one edge at a time,"
   ]
  },
  {
   "cell_type": "code",
   "execution_count": 8,
   "id": "498eaa8c",
   "metadata": {
    "execution": {
     "iopub.execute_input": "2023-12-22T14:44:33.909908Z",
     "iopub.status.busy": "2023-12-22T14:44:33.909748Z",
     "iopub.status.idle": "2023-12-22T14:44:33.912536Z",
     "shell.execute_reply": "2023-12-22T14:44:33.911988Z"
    }
   },
   "outputs": [],
   "source": [
    "G.add_edge(1, 2)\n",
    "e = (2, 3)\n",
    "G.add_edge(*e)  # unpack edge tuple*"
   ]
  },
  {
   "cell_type": "markdown",
   "id": "efd1d5cb",
   "metadata": {},
   "source": [
    "by adding a list of edges,"
   ]
  },
  {
   "cell_type": "code",
   "execution_count": 9,
   "id": "ecb7bf4e",
   "metadata": {
    "execution": {
     "iopub.execute_input": "2023-12-22T14:44:33.914567Z",
     "iopub.status.busy": "2023-12-22T14:44:33.914241Z",
     "iopub.status.idle": "2023-12-22T14:44:33.916776Z",
     "shell.execute_reply": "2023-12-22T14:44:33.916355Z"
    }
   },
   "outputs": [],
   "source": [
    "G.add_edges_from([(1, 2), (1, 3)])"
   ]
  },
  {
   "cell_type": "markdown",
   "id": "2f700aba",
   "metadata": {},
   "source": [
    "or by adding any ebunch of edges.  An *ebunch* is any iterable\n",
    "container of edge-tuples.  An edge-tuple can be a 2-tuple of nodes or a 3-tuple\n",
    "with 2 nodes followed by an edge attribute dictionary, e.g.,\n",
    "`(2, 3, {'weight': 3.1415})`.  Edge attributes are discussed further\n",
    "below."
   ]
  },
  {
   "cell_type": "code",
   "execution_count": 10,
   "id": "13c7e700",
   "metadata": {
    "execution": {
     "iopub.execute_input": "2023-12-22T14:44:33.918651Z",
     "iopub.status.busy": "2023-12-22T14:44:33.918490Z",
     "iopub.status.idle": "2023-12-22T14:44:33.920987Z",
     "shell.execute_reply": "2023-12-22T14:44:33.920527Z"
    }
   },
   "outputs": [],
   "source": [
    "G.add_edges_from(H.edges)"
   ]
  },
  {
   "cell_type": "markdown",
   "id": "f331de2d",
   "metadata": {},
   "source": [
    "There are no complaints when adding existing nodes or edges. For example,\n",
    "after removing all nodes and edges,"
   ]
  },
  {
   "cell_type": "code",
   "execution_count": 11,
   "id": "d7e0c5e4",
   "metadata": {
    "execution": {
     "iopub.execute_input": "2023-12-22T14:44:33.922918Z",
     "iopub.status.busy": "2023-12-22T14:44:33.922760Z",
     "iopub.status.idle": "2023-12-22T14:44:33.925067Z",
     "shell.execute_reply": "2023-12-22T14:44:33.924649Z"
    }
   },
   "outputs": [],
   "source": [
    "G.clear()"
   ]
  },
  {
   "cell_type": "markdown",
   "id": "eb8ddf07",
   "metadata": {},
   "source": [
    "we add new nodes/edges and NetworkX quietly ignores any that are\n",
    "already present."
   ]
  },
  {
   "cell_type": "code",
   "execution_count": 12,
   "id": "af6bba99",
   "metadata": {
    "execution": {
     "iopub.execute_input": "2023-12-22T14:44:33.926876Z",
     "iopub.status.busy": "2023-12-22T14:44:33.926720Z",
     "iopub.status.idle": "2023-12-22T14:44:33.929680Z",
     "shell.execute_reply": "2023-12-22T14:44:33.929241Z"
    }
   },
   "outputs": [],
   "source": [
    "G.add_edges_from([(1, 2), (1, 3)])\n",
    "G.add_node(1)\n",
    "G.add_edge(1, 2)\n",
    "G.add_node(\"spam\")        # adds node \"spam\"\n",
    "G.add_nodes_from(\"spam\")  # adds 4 nodes: 's', 'p', 'a', 'm'\n",
    "G.add_edge(3, 'm')"
   ]
  },
  {
   "cell_type": "markdown",
   "id": "76600885",
   "metadata": {},
   "source": [
    "At this stage the graph `G` consists of 8 nodes and 3 edges, as can be seen by:"
   ]
  },
  {
   "cell_type": "code",
   "execution_count": 13,
   "id": "d9db91ec",
   "metadata": {
    "execution": {
     "iopub.execute_input": "2023-12-22T14:44:33.931433Z",
     "iopub.status.busy": "2023-12-22T14:44:33.931277Z",
     "iopub.status.idle": "2023-12-22T14:44:33.936474Z",
     "shell.execute_reply": "2023-12-22T14:44:33.935928Z"
    }
   },
   "outputs": [
    {
     "data": {
      "text/plain": [
       "3"
      ]
     },
     "execution_count": 13,
     "metadata": {},
     "output_type": "execute_result"
    }
   ],
   "source": [
    "G.number_of_nodes()\n",
    "G.number_of_edges()"
   ]
  },
  {
   "cell_type": "code",
   "execution_count": 14,
   "id": "3e2cdee5",
   "metadata": {
    "execution": {
     "iopub.execute_input": "2023-12-22T14:44:33.938567Z",
     "iopub.status.busy": "2023-12-22T14:44:33.938134Z",
     "iopub.status.idle": "2023-12-22T14:44:33.941741Z",
     "shell.execute_reply": "2023-12-22T14:44:33.941260Z"
    }
   },
   "outputs": [],
   "source": [
    "DG = nx.DiGraph()\n",
    "DG.add_edge(2, 1)   # adds the nodes in order 2, 1\n",
    "DG.add_edge(1, 3)\n",
    "DG.add_edge(2, 4)\n",
    "DG.add_edge(1, 2)\n",
    "assert list(DG.successors(2)) == [1, 4]\n",
    "assert list(DG.edges) == [(2, 1), (2, 4), (1, 3), (1, 2)]"
   ]
  },
  {
   "cell_type": "markdown",
   "id": "854606f5",
   "metadata": {},
   "source": [
    "# Examining elements of a graph\n",
    "\n",
    "We can examine the nodes and edges. Four basic graph properties facilitate\n",
    "reporting: `G.nodes`, `G.edges`, `G.adj` and `G.degree`.  These\n",
    "are set-like views of the nodes, edges, neighbors (adjacencies), and degrees\n",
    "of nodes in a graph. They offer a continually updated read-only view into\n",
    "the graph structure. They are also dict-like in that you can look up node\n",
    "and edge data attributes via the views and iterate with data attributes\n",
    "using methods `.items()`, `.data()`.\n",
    "If you want a specific container type instead of a view, you can specify one.\n",
    "Here we use lists, though sets, dicts, tuples and other containers may be\n",
    "better in other contexts."
   ]
  },
  {
   "cell_type": "code",
   "execution_count": 15,
   "id": "bd2d660b",
   "metadata": {
    "execution": {
     "iopub.execute_input": "2023-12-22T14:44:33.943774Z",
     "iopub.status.busy": "2023-12-22T14:44:33.943468Z",
     "iopub.status.idle": "2023-12-22T14:44:33.947273Z",
     "shell.execute_reply": "2023-12-22T14:44:33.946735Z"
    }
   },
   "outputs": [
    {
     "data": {
      "text/plain": [
       "2"
      ]
     },
     "execution_count": 15,
     "metadata": {},
     "output_type": "execute_result"
    }
   ],
   "source": [
    "list(G.nodes)\n",
    "list(G.edges)\n",
    "list(G.adj[1])  # or list(G.neighbors(1))\n",
    "G.degree[1]  # the number of edges incident to 1"
   ]
  },
  {
   "cell_type": "markdown",
   "id": "359e867c",
   "metadata": {},
   "source": [
    "One can specify to report the edges and degree from a subset of all nodes\n",
    "using an nbunch. An *nbunch* is any of: `None` (meaning all nodes),\n",
    "a node, or an iterable container of nodes that is not itself a node in the\n",
    "graph."
   ]
  },
  {
   "cell_type": "code",
   "execution_count": 16,
   "id": "1f655f05",
   "metadata": {
    "execution": {
     "iopub.execute_input": "2023-12-22T14:44:33.949295Z",
     "iopub.status.busy": "2023-12-22T14:44:33.948881Z",
     "iopub.status.idle": "2023-12-22T14:44:33.952629Z",
     "shell.execute_reply": "2023-12-22T14:44:33.952117Z"
    }
   },
   "outputs": [
    {
     "data": {
      "text/plain": [
       "DegreeView({2: 1, 3: 2})"
      ]
     },
     "execution_count": 16,
     "metadata": {},
     "output_type": "execute_result"
    }
   ],
   "source": [
    "G.edges([2, 'm'])\n",
    "G.degree([2, 3])"
   ]
  },
  {
   "cell_type": "markdown",
   "id": "2736c251",
   "metadata": {},
   "source": [
    "# Removing elements from a graph\n",
    "\n",
    "One can remove nodes and edges from the graph in a similar fashion to adding.\n",
    "Use methods\n",
    "`Graph.remove_node()`,\n",
    "`Graph.remove_nodes_from()`,\n",
    "`Graph.remove_edge()`\n",
    "and\n",
    "`Graph.remove_edges_from()`, e.g."
   ]
  },
  {
   "cell_type": "code",
   "execution_count": 17,
   "id": "a52f7ef7",
   "metadata": {
    "execution": {
     "iopub.execute_input": "2023-12-22T14:44:33.954609Z",
     "iopub.status.busy": "2023-12-22T14:44:33.954304Z",
     "iopub.status.idle": "2023-12-22T14:44:33.956957Z",
     "shell.execute_reply": "2023-12-22T14:44:33.956496Z"
    }
   },
   "outputs": [],
   "source": [
    "G.remove_node(2)\n",
    "G.remove_nodes_from(\"spam\")\n",
    "list(G.nodes)\n",
    "G.remove_edge(1, 3)"
   ]
  },
  {
   "cell_type": "markdown",
   "id": "cf729ecb",
   "metadata": {},
   "source": [
    "# Using the graph constructors\n",
    "\n",
    "Graph objects do not have to be built up incrementally - data specifying\n",
    "graph structure can be passed directly to the constructors of the various\n",
    "graph classes.\n",
    "When creating a graph structure by instantiating one of the graph\n",
    "classes you can specify data in several formats."
   ]
  },
  {
   "cell_type": "code",
   "execution_count": 18,
   "id": "0dd11f8c",
   "metadata": {
    "execution": {
     "iopub.execute_input": "2023-12-22T14:44:33.958911Z",
     "iopub.status.busy": "2023-12-22T14:44:33.958595Z",
     "iopub.status.idle": "2023-12-22T14:44:34.193038Z",
     "shell.execute_reply": "2023-12-22T14:44:34.192493Z"
    }
   },
   "outputs": [
    {
     "data": {
      "text/plain": [
       "[(0, 1), (0, 2), (1, 2)]"
      ]
     },
     "execution_count": 18,
     "metadata": {},
     "output_type": "execute_result"
    }
   ],
   "source": [
    "G.add_edge(1, 2)\n",
    "H = nx.DiGraph(G)  # create a DiGraph using the connections from G\n",
    "list(H.edges())\n",
    "edgelist = [(0, 1), (1, 2), (2, 3)]\n",
    "H = nx.Graph(edgelist)  # create a graph from an edge list\n",
    "list(H.edges())\n",
    "adjacency_dict = {0: (1, 2), 1: (0, 2), 2: (0, 1)}\n",
    "H = nx.Graph(adjacency_dict)  # create a Graph dict mapping nodes to nbrs\n",
    "list(H.edges())"
   ]
  },
  {
   "cell_type": "markdown",
   "id": "76fe3a61",
   "metadata": {},
   "source": [
    "# What to use as nodes and edges\n",
    "\n",
    "You might notice that nodes and edges are not specified as NetworkX\n",
    "objects.  This leaves you free to use meaningful items as nodes and\n",
    "edges. The most common choices are numbers or strings, but a node can\n",
    "be any hashable object (except `None`), and an edge can be associated\n",
    "with any object `x` using `G.add_edge(n1, n2, object=x)`.\n",
    "\n",
    "As an example, `n1` and `n2` could be protein objects from the RCSB Protein\n",
    "Data Bank, and `x` could refer to an XML record of publications detailing\n",
    "experimental observations of their interaction.\n",
    "\n",
    "We have found this power quite useful, but its abuse\n",
    "can lead to surprising behavior unless one is familiar with Python.\n",
    "If in doubt, consider using `convert_node_labels_to_integers()` to obtain\n",
    "a more traditional graph with integer labels.\n",
    "\n",
    "# Accessing edges and neighbors\n",
    "\n",
    "In addition to the views `Graph.edges`, and `Graph.adj`,\n",
    "access to edges and neighbors is possible using subscript notation."
   ]
  },
  {
   "cell_type": "code",
   "execution_count": 19,
   "id": "516d9052",
   "metadata": {
    "execution": {
     "iopub.execute_input": "2023-12-22T14:44:34.195440Z",
     "iopub.status.busy": "2023-12-22T14:44:34.194982Z",
     "iopub.status.idle": "2023-12-22T14:44:34.199118Z",
     "shell.execute_reply": "2023-12-22T14:44:34.198682Z"
    }
   },
   "outputs": [
    {
     "data": {
      "text/plain": [
       "{'color': 'yellow'}"
      ]
     },
     "execution_count": 19,
     "metadata": {},
     "output_type": "execute_result"
    }
   ],
   "source": [
    "G = nx.Graph([(1, 2, {\"color\": \"yellow\"})])\n",
    "G[1]  # same as G.adj[1]\n",
    "G[1][2]\n",
    "G.edges[1, 2]"
   ]
  },
  {
   "cell_type": "markdown",
   "id": "291a2acd",
   "metadata": {},
   "source": [
    "You can get/set the attributes of an edge using subscript notation\n",
    "if the edge already exists."
   ]
  },
  {
   "cell_type": "code",
   "execution_count": 20,
   "id": "3c9ac442",
   "metadata": {
    "execution": {
     "iopub.execute_input": "2023-12-22T14:44:34.201013Z",
     "iopub.status.busy": "2023-12-22T14:44:34.200725Z",
     "iopub.status.idle": "2023-12-22T14:44:34.204498Z",
     "shell.execute_reply": "2023-12-22T14:44:34.204070Z"
    }
   },
   "outputs": [
    {
     "data": {
      "text/plain": [
       "{'color': 'red'}"
      ]
     },
     "execution_count": 20,
     "metadata": {},
     "output_type": "execute_result"
    }
   ],
   "source": [
    "G.add_edge(1, 3)\n",
    "G[1][3]['color'] = \"blue\"\n",
    "G.edges[1, 2]['color'] = \"red\"\n",
    "G.edges[1, 2]"
   ]
  },
  {
   "cell_type": "markdown",
   "id": "8c96e8c5",
   "metadata": {},
   "source": [
    "Fast examination of all (node, adjacency) pairs is achieved using\n",
    "`G.adjacency()`, or `G.adj.items()`.\n",
    "Note that for undirected graphs, adjacency iteration sees each edge twice."
   ]
  },
  {
   "cell_type": "code",
   "execution_count": 21,
   "id": "3109a87f",
   "metadata": {
    "execution": {
     "iopub.execute_input": "2023-12-22T14:44:34.206438Z",
     "iopub.status.busy": "2023-12-22T14:44:34.206275Z",
     "iopub.status.idle": "2023-12-22T14:44:34.210178Z",
     "shell.execute_reply": "2023-12-22T14:44:34.209662Z"
    }
   },
   "outputs": [
    {
     "name": "stdout",
     "output_type": "stream",
     "text": [
      "(1, 2, 0.125)\n",
      "(2, 1, 0.125)\n",
      "(3, 4, 0.375)\n",
      "(4, 3, 0.375)\n"
     ]
    }
   ],
   "source": [
    "FG = nx.Graph()\n",
    "FG.add_weighted_edges_from([(1, 2, 0.125), (1, 3, 0.75), (2, 4, 1.2), (3, 4, 0.375)])\n",
    "for n, nbrs in FG.adj.items():\n",
    "   for nbr, eattr in nbrs.items():\n",
    "       wt = eattr['weight']\n",
    "       if wt < 0.5: print(f\"({n}, {nbr}, {wt:.3})\")"
   ]
  },
  {
   "cell_type": "markdown",
   "id": "2fa581b9",
   "metadata": {},
   "source": [
    "Convenient access to all edges is achieved with the edges property."
   ]
  },
  {
   "cell_type": "code",
   "execution_count": 22,
   "id": "5a67264d",
   "metadata": {
    "execution": {
     "iopub.execute_input": "2023-12-22T14:44:34.212005Z",
     "iopub.status.busy": "2023-12-22T14:44:34.211845Z",
     "iopub.status.idle": "2023-12-22T14:44:34.215200Z",
     "shell.execute_reply": "2023-12-22T14:44:34.214737Z"
    }
   },
   "outputs": [
    {
     "name": "stdout",
     "output_type": "stream",
     "text": [
      "(1, 2, 0.125)\n",
      "(3, 4, 0.375)\n"
     ]
    }
   ],
   "source": [
    "for (u, v, wt) in FG.edges.data('weight'):\n",
    "    if wt < 0.5:\n",
    "        print(f\"({u}, {v}, {wt:.3})\")"
   ]
  },
  {
   "cell_type": "markdown",
   "id": "c6fba1e8",
   "metadata": {},
   "source": [
    "# Adding attributes to graphs, nodes, and edges\n",
    "\n",
    "Attributes such as weights, labels, colors, or whatever Python object you like,\n",
    "can be attached to graphs, nodes, or edges.\n",
    "\n",
    "Each graph, node, and edge can hold key/value attribute pairs in an associated\n",
    "attribute dictionary (the keys must be hashable).  By default these are empty,\n",
    "but attributes can be added or changed using `add_edge`, `add_node` or direct\n",
    "manipulation of the attribute dictionaries named `G.graph`, `G.nodes`, and\n",
    "`G.edges` for a graph `G`.\n",
    "\n",
    "## Graph attributes\n",
    "\n",
    "Assign graph attributes when creating a new graph"
   ]
  },
  {
   "cell_type": "code",
   "execution_count": 23,
   "id": "5547272f",
   "metadata": {
    "execution": {
     "iopub.execute_input": "2023-12-22T14:44:34.216994Z",
     "iopub.status.busy": "2023-12-22T14:44:34.216824Z",
     "iopub.status.idle": "2023-12-22T14:44:34.220508Z",
     "shell.execute_reply": "2023-12-22T14:44:34.220072Z"
    }
   },
   "outputs": [
    {
     "data": {
      "text/plain": [
       "{'day': 'Friday'}"
      ]
     },
     "execution_count": 23,
     "metadata": {},
     "output_type": "execute_result"
    }
   ],
   "source": [
    "G = nx.Graph(day=\"Friday\")\n",
    "G.graph"
   ]
  },
  {
   "cell_type": "markdown",
   "id": "f3a793c4",
   "metadata": {},
   "source": [
    "Or you can modify attributes later"
   ]
  },
  {
   "cell_type": "code",
   "execution_count": 24,
   "id": "4276e076",
   "metadata": {
    "execution": {
     "iopub.execute_input": "2023-12-22T14:44:34.222325Z",
     "iopub.status.busy": "2023-12-22T14:44:34.222167Z",
     "iopub.status.idle": "2023-12-22T14:44:34.225816Z",
     "shell.execute_reply": "2023-12-22T14:44:34.225341Z"
    }
   },
   "outputs": [
    {
     "data": {
      "text/plain": [
       "{'day': 'Monday'}"
      ]
     },
     "execution_count": 24,
     "metadata": {},
     "output_type": "execute_result"
    }
   ],
   "source": [
    "G.graph['day'] = \"Monday\"\n",
    "G.graph"
   ]
  },
  {
   "cell_type": "markdown",
   "id": "fc6d8da0",
   "metadata": {},
   "source": [
    "# Node attributes\n",
    "\n",
    "Add node attributes using `add_node()`, `add_nodes_from()`, or `G.nodes`"
   ]
  },
  {
   "cell_type": "code",
   "execution_count": 25,
   "id": "2690b757",
   "metadata": {
    "execution": {
     "iopub.execute_input": "2023-12-22T14:44:34.227733Z",
     "iopub.status.busy": "2023-12-22T14:44:34.227572Z",
     "iopub.status.idle": "2023-12-22T14:44:34.231785Z",
     "shell.execute_reply": "2023-12-22T14:44:34.231233Z"
    }
   },
   "outputs": [
    {
     "data": {
      "text/plain": [
       "NodeDataView({1: {'time': '5pm', 'room': 714}, 3: {'time': '2pm'}})"
      ]
     },
     "execution_count": 25,
     "metadata": {},
     "output_type": "execute_result"
    }
   ],
   "source": [
    "G.add_node(1, time='5pm')\n",
    "G.add_nodes_from([3], time='2pm')\n",
    "G.nodes[1]\n",
    "G.nodes[1]['room'] = 714\n",
    "G.nodes.data()"
   ]
  },
  {
   "cell_type": "markdown",
   "id": "7d3ff3be",
   "metadata": {},
   "source": [
    "Note that adding a node to `G.nodes` does not add it to the graph, use\n",
    "`G.add_node()` to add new nodes. Similarly for edges.\n",
    "\n",
    "# Edge Attributes\n",
    "\n",
    "Add/change edge attributes using `add_edge()`, `add_edges_from()`,\n",
    "or subscript notation."
   ]
  },
  {
   "cell_type": "code",
   "execution_count": 26,
   "id": "60a66e25",
   "metadata": {
    "execution": {
     "iopub.execute_input": "2023-12-22T14:44:34.233891Z",
     "iopub.status.busy": "2023-12-22T14:44:34.233564Z",
     "iopub.status.idle": "2023-12-22T14:44:34.237047Z",
     "shell.execute_reply": "2023-12-22T14:44:34.236483Z"
    }
   },
   "outputs": [],
   "source": [
    "G.add_edge(1, 2, weight=4.7 )\n",
    "G.add_edges_from([(3, 4), (4, 5)], color='red')\n",
    "G.add_edges_from([(1, 2, {'color': 'blue'}), (2, 3, {'weight': 8})])\n",
    "G[1][2]['weight'] = 4.7\n",
    "G.edges[3, 4]['weight'] = 4.2"
   ]
  },
  {
   "cell_type": "markdown",
   "id": "82679e5b",
   "metadata": {},
   "source": [
    "The special attribute `weight` should be numeric as it is used by\n",
    "algorithms requiring weighted edges.\n",
    "\n",
    " Directed graphs\n",
    "\n",
    "The `DiGraph` class provides additional methods and properties specific\n",
    "to directed edges, e.g.,\n",
    "`DiGraph.out_edges`, `DiGraph.in_degree`,\n",
    "`DiGraph.predecessors`, `DiGraph.successors` etc.\n",
    "To allow algorithms to work with both classes easily, the directed versions of\n",
    "`neighbors` is equivalent to\n",
    "`successors` while `degree` reports the sum\n",
    "of `in_degree` and `out_degree` even though that may feel inconsistent at times."
   ]
  },
  {
   "cell_type": "code",
   "execution_count": 27,
   "id": "ac0a734a",
   "metadata": {
    "execution": {
     "iopub.execute_input": "2023-12-22T14:44:34.239108Z",
     "iopub.status.busy": "2023-12-22T14:44:34.238852Z",
     "iopub.status.idle": "2023-12-22T14:44:34.243281Z",
     "shell.execute_reply": "2023-12-22T14:44:34.242797Z"
    }
   },
   "outputs": [
    {
     "data": {
      "text/plain": [
       "[2]"
      ]
     },
     "execution_count": 27,
     "metadata": {},
     "output_type": "execute_result"
    }
   ],
   "source": [
    "DG = nx.DiGraph()\n",
    "DG.add_weighted_edges_from([(1, 2, 0.5), (3, 1, 0.75)])\n",
    "DG.out_degree(1, weight='weight')\n",
    "DG.degree(1, weight='weight')\n",
    "list(DG.successors(1))\n",
    "list(DG.neighbors(1))"
   ]
  },
  {
   "cell_type": "markdown",
   "id": "199c85cf",
   "metadata": {},
   "source": [
    "Some algorithms work only for directed graphs and others are not well\n",
    "defined for directed graphs.  Indeed the tendency to lump directed\n",
    "and undirected graphs together is dangerous.  If you want to treat\n",
    "a directed graph as undirected for some measurement you should probably\n",
    "convert it using `Graph.to_undirected()` or with"
   ]
  },
  {
   "cell_type": "code",
   "execution_count": 28,
   "id": "be952635",
   "metadata": {
    "execution": {
     "iopub.execute_input": "2023-12-22T14:44:34.245355Z",
     "iopub.status.busy": "2023-12-22T14:44:34.244979Z",
     "iopub.status.idle": "2023-12-22T14:44:34.247528Z",
     "shell.execute_reply": "2023-12-22T14:44:34.247088Z"
    }
   },
   "outputs": [],
   "source": [
    "H = nx.Graph(G)  # create an undirected graph H from a directed graph G"
   ]
  },
  {
   "cell_type": "markdown",
   "id": "338d9a85",
   "metadata": {},
   "source": [
    "# Multigraphs\n",
    "\n",
    "NetworkX provides classes for graphs which allow multiple edges\n",
    "between any pair of nodes.  The `MultiGraph` and\n",
    "`MultiDiGraph`\n",
    "classes allow you to add the same edge twice, possibly with different\n",
    "edge data.  This can be powerful for some applications, but many\n",
    "algorithms are not well defined on such graphs.\n",
    "Where results are well defined,\n",
    "e.g., `MultiGraph.degree()` we provide the function.  Otherwise you\n",
    "should convert to a standard graph in a way that makes the measurement\n",
    "well defined."
   ]
  },
  {
   "cell_type": "code",
   "execution_count": 29,
   "id": "22a5ab49",
   "metadata": {
    "execution": {
     "iopub.execute_input": "2023-12-22T14:44:34.249467Z",
     "iopub.status.busy": "2023-12-22T14:44:34.249149Z",
     "iopub.status.idle": "2023-12-22T14:44:34.254346Z",
     "shell.execute_reply": "2023-12-22T14:44:34.253870Z"
    }
   },
   "outputs": [
    {
     "data": {
      "text/plain": [
       "[1, 2, 3]"
      ]
     },
     "execution_count": 29,
     "metadata": {},
     "output_type": "execute_result"
    }
   ],
   "source": [
    "MG = nx.MultiGraph()\n",
    "MG.add_weighted_edges_from([(1, 2, 0.5), (1, 2, 0.75), (2, 3, 0.5)])\n",
    "dict(MG.degree(weight='weight'))\n",
    "GG = nx.Graph()\n",
    "for n, nbrs in MG.adjacency():\n",
    "   for nbr, edict in nbrs.items():\n",
    "       minvalue = min([d['weight'] for d in edict.values()])\n",
    "       GG.add_edge(n, nbr, weight = minvalue)\n",
    "\n",
    "nx.shortest_path(GG, 1, 3)"
   ]
  },
  {
   "cell_type": "markdown",
   "id": "6d6f12ed",
   "metadata": {},
   "source": [
    "# Graph generators and graph operations\n",
    "\n",
    "In addition to constructing graphs node-by-node or edge-by-edge, they\n",
    "can also be generated by\n",
    "\n",
    "#### 1. Applying classic graph operations, such as:\n",
    "\n",
    "#### 2. Using a call to one of the classic small graphs, e.g.,\n",
    "\n",
    "#### 3. Using a (constructive) generator for a classic graph, e.g.,\n",
    "\n",
    "like so:"
   ]
  },
  {
   "cell_type": "code",
   "execution_count": 30,
   "id": "41ce2ee7",
   "metadata": {
    "execution": {
     "iopub.execute_input": "2023-12-22T14:44:34.256319Z",
     "iopub.status.busy": "2023-12-22T14:44:34.256016Z",
     "iopub.status.idle": "2023-12-22T14:44:34.259573Z",
     "shell.execute_reply": "2023-12-22T14:44:34.259120Z"
    }
   },
   "outputs": [],
   "source": [
    "K_5 = nx.complete_graph(5)\n",
    "K_3_5 = nx.complete_bipartite_graph(3, 5)\n",
    "barbell = nx.barbell_graph(10, 10)\n",
    "lollipop = nx.lollipop_graph(10, 20)"
   ]
  },
  {
   "cell_type": "markdown",
   "id": "2f4b7512",
   "metadata": {},
   "source": [
    "#### 4. Using a stochastic graph generator, e.g,\n",
    "\n",
    "like so:"
   ]
  },
  {
   "cell_type": "code",
   "execution_count": 31,
   "id": "0b6f85c1",
   "metadata": {
    "execution": {
     "iopub.execute_input": "2023-12-22T14:44:34.261595Z",
     "iopub.status.busy": "2023-12-22T14:44:34.261278Z",
     "iopub.status.idle": "2023-12-22T14:44:34.316360Z",
     "shell.execute_reply": "2023-12-22T14:44:34.315883Z"
    }
   },
   "outputs": [],
   "source": [
    "er = nx.erdos_renyi_graph(100, 0.15)\n",
    "ws = nx.watts_strogatz_graph(30, 3, 0.1)\n",
    "ba = nx.barabasi_albert_graph(100, 5)\n",
    "red = nx.random_lobster(100, 0.9, 0.9)"
   ]
  },
  {
   "cell_type": "markdown",
   "id": "3ca8271a",
   "metadata": {},
   "source": [
    "####  5. Reading a graph stored in a file using common graph formats\n",
    "\n",
    "NetworkX supports many popular formats, such as edge lists, adjacency lists,\n",
    "**GML**, GraphML, LEDA and others."
   ]
  },
  {
   "cell_type": "markdown",
   "id": "08db3461",
   "metadata": {},
   "source": [
    "**GML** (Graph Modelling Language) is a hierarchical ASCII-based file format for describing graphs. It's widely used in network analysis, graph theory, and other related fields. \n",
    "\n",
    "GML's key features include:\n",
    "\n",
    "- It's human-readable and fairly easy to generate or edit manually.\n",
    "- It supports directed, undirected, and mixed graphs.\n",
    "- It allows for hierarchical graph structures.\n",
    "- It supports attributes on graphs, nodes, and edges.\n",
    "\n",
    "Here's an example of what a simple GML file might look like:\n",
    "\n"
   ]
  },
  {
   "cell_type": "code",
   "execution_count": 35,
   "id": "7c691a7b",
   "metadata": {},
   "outputs": [],
   "source": [
    "import networkx as nx\n",
    "\n",
    "# Create a new graph\n",
    "G = nx.Graph()\n",
    "\n",
    "# Add nodes with labels\n",
    "G.add_node(1, label=\"Node 1\")\n",
    "G.add_node(2, label=\"Node 2\")\n",
    "\n",
    "# Add edge with label\n",
    "G.add_edge(1, 2, label=\"Edge from Node 1 to Node 2\")\n",
    "\n",
    "# Write to GML file\n",
    "nx.write_gml(G, \"./data/example.gml\")\n",
    "\n",
    "# To read it back\n",
    "G_loaded = nx.read_gml(\"./data/example.gml\")"
   ]
  },
  {
   "cell_type": "markdown",
   "id": "7f8a8465",
   "metadata": {},
   "source": [
    "The GML format you showed would be stored in a text file (example.gml) and would look like this:"
   ]
  },
  {
   "cell_type": "markdown",
   "id": "e52ffaa4",
   "metadata": {},
   "source": [
    "```bash\n",
    "graph [\n",
    "  node [\n",
    "    id 1\n",
    "    label \"Node 1\"\n",
    "  ]\n",
    "  node [\n",
    "    id 2\n",
    "    label \"Node 2\"\n",
    "  ]\n",
    "  edge [\n",
    "    source 1\n",
    "    target 2\n",
    "    label \"Edge from Node 1 to Node 2\"\n",
    "  ]\n",
    "]\n",
    "```"
   ]
  },
  {
   "cell_type": "markdown",
   "id": "9d63c2ff",
   "metadata": {},
   "source": [
    "\n",
    "\n",
    "This GML file describes a graph with two nodes and one edge. Each node and the edge have an associated label."
   ]
  },
  {
   "cell_type": "code",
   "execution_count": 36,
   "id": "e58fb11a",
   "metadata": {
    "execution": {
     "iopub.execute_input": "2023-12-22T14:44:34.318603Z",
     "iopub.status.busy": "2023-12-22T14:44:34.318285Z",
     "iopub.status.idle": "2023-12-22T14:44:35.321496Z",
     "shell.execute_reply": "2023-12-22T14:44:35.320890Z"
    }
   },
   "outputs": [
    {
     "name": "stdout",
     "output_type": "stream",
     "text": [
      "The graph has 2646 nodes.\n"
     ]
    }
   ],
   "source": [
    "nx.write_gml(red, \"./data/red_gml_file.txt\")\n",
    "mygraph = nx.read_gml(\"./data/red_gml_file.txt\")\n",
    "\n",
    "num_nodes = mygraph.number_of_nodes()\n",
    "print(f\"The graph has {num_nodes} nodes.\")\n"
   ]
  },
  {
   "cell_type": "markdown",
   "id": "a11e3db4",
   "metadata": {},
   "source": [
    "For details on graph formats see Reading and writing graphs\n",
    "and for graph generator functions see Graph generators\n",
    "\n",
    " Analyzing graphs\n",
    "\n",
    "The structure of `G` can be analyzed using various graph-theoretic\n",
    "functions such as:"
   ]
  },
  {
   "cell_type": "code",
   "execution_count": 37,
   "id": "37df098c",
   "metadata": {
    "execution": {
     "iopub.execute_input": "2023-12-22T14:44:35.323895Z",
     "iopub.status.busy": "2023-12-22T14:44:35.323732Z",
     "iopub.status.idle": "2023-12-22T14:44:35.328865Z",
     "shell.execute_reply": "2023-12-22T14:44:35.328418Z"
    }
   },
   "outputs": [
    {
     "data": {
      "text/plain": [
       "{1: 0, 2: 0, 3: 0, 'spam': 0}"
      ]
     },
     "execution_count": 37,
     "metadata": {},
     "output_type": "execute_result"
    }
   ],
   "source": [
    "G = nx.Graph()\n",
    "G.add_edges_from([(1, 2), (1, 3)])\n",
    "G.add_node(\"spam\")       # adds node \"spam\"\n",
    "list(nx.connected_components(G))\n",
    "sorted(d for n, d in G.degree())\n",
    "nx.clustering(G)"
   ]
  },
  {
   "cell_type": "markdown",
   "id": "c699f65c",
   "metadata": {},
   "source": [
    "Some functions with large output iterate over (node, value) 2-tuples.\n",
    "These are easily stored in a [dict](https://docs.python.org/3/library/stdtypes.html#dict) structure if you desire."
   ]
  },
  {
   "cell_type": "code",
   "execution_count": 38,
   "id": "8e7e3f3a",
   "metadata": {
    "execution": {
     "iopub.execute_input": "2023-12-22T14:44:35.330872Z",
     "iopub.status.busy": "2023-12-22T14:44:35.330584Z",
     "iopub.status.idle": "2023-12-22T14:44:35.334364Z",
     "shell.execute_reply": "2023-12-22T14:44:35.333923Z"
    }
   },
   "outputs": [
    {
     "data": {
      "text/plain": [
       "{3: [3], 1: [3, 1], 2: [3, 1, 2]}"
      ]
     },
     "execution_count": 38,
     "metadata": {},
     "output_type": "execute_result"
    }
   ],
   "source": [
    "sp = dict(nx.all_pairs_shortest_path(G))\n",
    "sp[3]"
   ]
  },
  {
   "cell_type": "markdown",
   "id": "fcd061f0",
   "metadata": {},
   "source": [
    "See Algorithms for details on graph algorithms\n",
    "supported.\n",
    "\n",
    "# Drawing graphs\n",
    "\n",
    "NetworkX is not primarily a graph drawing package but basic drawing with\n",
    "Matplotlib as well as an interface to use the open source Graphviz software\n",
    "package are included.  These are part of the networkx.drawing\n",
    "module and will be imported if possible.\n",
    "\n",
    "First import Matplotlib’s plot interface (pylab works too)"
   ]
  },
  {
   "cell_type": "code",
   "execution_count": 39,
   "id": "4d719ca8",
   "metadata": {
    "execution": {
     "iopub.execute_input": "2023-12-22T14:44:35.336303Z",
     "iopub.status.busy": "2023-12-22T14:44:35.336141Z",
     "iopub.status.idle": "2023-12-22T14:44:35.606983Z",
     "shell.execute_reply": "2023-12-22T14:44:35.606425Z"
    }
   },
   "outputs": [],
   "source": [
    "import matplotlib.pyplot as plt"
   ]
  },
  {
   "cell_type": "markdown",
   "id": "8a12783f",
   "metadata": {},
   "source": [
    "To test if the import of `nx_pylab` was successful draw `G`\n",
    "using one of"
   ]
  },
  {
   "cell_type": "code",
   "execution_count": 40,
   "id": "86f4423b",
   "metadata": {
    "execution": {
     "iopub.execute_input": "2023-12-22T14:44:35.609602Z",
     "iopub.status.busy": "2023-12-22T14:44:35.609182Z",
     "iopub.status.idle": "2023-12-22T14:44:35.758142Z",
     "shell.execute_reply": "2023-12-22T14:44:35.757434Z"
    }
   },
   "outputs": [
    {
     "data": {
      "image/png": "[encoded data removed]",
      "text/plain": [
       "<Figure size 640x480 with 2 Axes>"
      ]
     },
     "metadata": {},
     "output_type": "display_data"
    }
   ],
   "source": [
    "G = nx.petersen_graph()\n",
    "subax1 = plt.subplot(121)\n",
    "nx.draw(G, with_labels=True, font_weight='bold')\n",
    "subax2 = plt.subplot(122)\n",
    "nx.draw_shell(G, nlist=[range(5, 10), range(5)], with_labels=True, font_weight='bold')"
   ]
  },
  {
   "cell_type": "markdown",
   "id": "90e67b93",
   "metadata": {},
   "source": [
    "when drawing to an interactive display.  Note that you may need to issue a\n",
    "Matplotlib"
   ]
  },
  {
   "cell_type": "code",
   "execution_count": 41,
   "id": "e5ebd57c",
   "metadata": {
    "execution": {
     "iopub.execute_input": "2023-12-22T14:44:35.760623Z",
     "iopub.status.busy": "2023-12-22T14:44:35.760130Z",
     "iopub.status.idle": "2023-12-22T14:44:35.763801Z",
     "shell.execute_reply": "2023-12-22T14:44:35.763297Z"
    }
   },
   "outputs": [],
   "source": [
    "plt.show()"
   ]
  },
  {
   "cell_type": "markdown",
   "id": "85bcb270",
   "metadata": {},
   "source": [
    "command if you are not using matplotlib in interactive mode."
   ]
  },
  {
   "cell_type": "code",
   "execution_count": 42,
   "id": "6314d05f",
   "metadata": {
    "execution": {
     "iopub.execute_input": "2023-12-22T14:44:35.765872Z",
     "iopub.status.busy": "2023-12-22T14:44:35.765517Z",
     "iopub.status.idle": "2023-12-22T14:44:35.975755Z",
     "shell.execute_reply": "2023-12-22T14:44:35.975186Z"
    }
   },
   "outputs": [
    {
     "data": {
      "image/png": "[encoded data removed]",
      "text/plain": [
       "<Figure size 640x480 with 4 Axes>"
      ]
     },
     "metadata": {},
     "output_type": "display_data"
    }
   ],
   "source": [
    "options = {\n",
    "    'node_color': 'black',\n",
    "    'node_size': 100,\n",
    "    'width': 3,\n",
    "}\n",
    "subax1 = plt.subplot(221)\n",
    "nx.draw_random(G, **options)\n",
    "subax2 = plt.subplot(222)\n",
    "nx.draw_circular(G, **options)\n",
    "subax3 = plt.subplot(223)\n",
    "nx.draw_spectral(G, **options)\n",
    "subax4 = plt.subplot(224)\n",
    "nx.draw_shell(G, nlist=[range(5,10), range(5)], **options)"
   ]
  },
  {
   "cell_type": "markdown",
   "id": "b247bab5",
   "metadata": {},
   "source": [
    "You can find additional options via `draw_networkx()` and\n",
    "layouts via the `layout module`.\n",
    "You can use multiple shells with `draw_shell()`."
   ]
  },
  {
   "cell_type": "code",
   "execution_count": 43,
   "id": "c674c532",
   "metadata": {
    "execution": {
     "iopub.execute_input": "2023-12-22T14:44:35.978024Z",
     "iopub.status.busy": "2023-12-22T14:44:35.977706Z",
     "iopub.status.idle": "2023-12-22T14:44:36.058606Z",
     "shell.execute_reply": "2023-12-22T14:44:36.058114Z"
    }
   },
   "outputs": [
    {
     "data": {
      "image/png": "[encoded data removed]",
      "text/plain": [
       "<Figure size 640x480 with 1 Axes>"
      ]
     },
     "metadata": {},
     "output_type": "display_data"
    }
   ],
   "source": [
    "G = nx.dodecahedral_graph()\n",
    "shells = [[2, 3, 4, 5, 6], [8, 1, 0, 19, 18, 17, 16, 15, 14, 7], [9, 10, 11, 12, 13]]\n",
    "nx.draw_shell(G, nlist=shells, **options)"
   ]
  },
  {
   "cell_type": "markdown",
   "id": "ad657035",
   "metadata": {},
   "source": [
    "To save drawings to a file, use, for example"
   ]
  },
  {
   "cell_type": "code",
   "execution_count": 45,
   "id": "05485e54",
   "metadata": {
    "execution": {
     "iopub.execute_input": "2023-12-22T14:44:36.061081Z",
     "iopub.status.busy": "2023-12-22T14:44:36.060722Z",
     "iopub.status.idle": "2023-12-22T14:44:36.198118Z",
     "shell.execute_reply": "2023-12-22T14:44:36.197641Z"
    }
   },
   "outputs": [
    {
     "data": {
      "image/png": "[encoded data removed]",
      "text/plain": [
       "<Figure size 640x480 with 1 Axes>"
      ]
     },
     "metadata": {},
     "output_type": "display_data"
    }
   ],
   "source": [
    "nx.draw(G)\n",
    "plt.savefig(\"./data/path.png\")"
   ]
  },
  {
   "cell_type": "markdown",
   "id": "90053f61",
   "metadata": {},
   "source": [
    " \n",
    "This function writes to the file `path.png` in the local directory. "
   ]
  },
  {
   "cell_type": "markdown",
   "id": "b7785ccb",
   "metadata": {},
   "source": [
    "## Graphviz (optional)\n",
    "\n",
    "<img src=\"./assets/graphviz.png\" width=\"100\">"
   ]
  },
  {
   "cell_type": "markdown",
   "id": "72ce7381",
   "metadata": {},
   "source": [
    "### What is Graphviz?\n",
    "\n",
    "Graphviz is open source graph visualization software. Graph visualization is a way of representing structural information as diagrams of abstract graphs and networks. It has important applications in networking, bioinformatics, software engineering, database and web design, machine learning, and in visual interfaces for other technical domains.\n",
    "\n",
    "To get a **visual impresseion of what Graphviz can do**, see https://graphviz.org/gallery and https://graphviz.org/Documentation/dotguide.pdf."
   ]
  },
  {
   "cell_type": "markdown",
   "id": "7b765c56",
   "metadata": {},
   "source": [
    "**Installations**\n",
    "\n",
    "If [Graphviz](https://www.graphviz.org) and\n",
    "[PyGraphviz](https://github.com/pygraphviz/pygraphviz) or [pydot](https://github.com/pydot/pydot), are available on your system, <br>\n",
    "you can also use\n",
    "`networkx.drawing.nx_agraph.graphviz_layout` or `networkx.drawing.nx_pydot.graphviz_layout` <br>\n",
    "to get the node positions, or write\n",
    "the graph in [dot format](https://en.wikipedia.org/wiki/DOT_(graph_description_language)) for further processing.\n",
    "\n",
    "For installation of Graphviz, see https://pygraphviz.github.io/documentation/stable/install.html, e.g.\n",
    "\n",
    "MacOS: \n",
    "> brew install graphviz\n",
    "\n",
    "Ubuntu:\n",
    "> sudo apt-get install graphviz graphviz-dev\n",
    "\n",
    "Windows:\n",
    "> conda install -c anaconda graphviz (not tested) <br>\n",
    "\n",
    "After installation, you might need to add Graphviz to your system's PATH.<br> \n",
    "You can do this by adding the path to the Graphviz bin folder (usually `C:\\Users\\{username}\\Anaconda3\\Library\\bin\\graphviz`) to your system's PATH environment variable.\n",
    "\n",
    "**For installation of PyGraphviz and pydot**:\n",
    "> conda activate elmed219   <br>\n",
    "> conda install --channel conda-forge pygraphviz <br>\n",
    "> conda install --channel conda-forge pydot"
   ]
  },
  {
   "cell_type": "code",
   "execution_count": 46,
   "id": "5036b630",
   "metadata": {},
   "outputs": [
    {
     "name": "stdout",
     "output_type": "stream",
     "text": [
      "dot - graphviz version 12.2.1 (20241206.2353)\n"
     ]
    }
   ],
   "source": [
    "# You can check if Graphviz is installed by tryinh to run `dot` command:\n",
    "!dot -V"
   ]
  },
  {
   "cell_type": "code",
   "execution_count": 47,
   "id": "b4d16570",
   "metadata": {},
   "outputs": [
    {
     "ename": "ModuleNotFoundError",
     "evalue": "No module named 'pygraphviz'",
     "output_type": "error",
     "traceback": [
      "\u001b[0;31m---------------------------------------------------------------------------\u001b[0m",
      "\u001b[0;31mModuleNotFoundError\u001b[0m                       Traceback (most recent call last)",
      "Cell \u001b[0;32mIn[47], line 1\u001b[0m\n\u001b[0;32m----> 1\u001b[0m \u001b[38;5;28;01mimport\u001b[39;00m \u001b[38;5;21;01mpygraphviz\u001b[39;00m\n\u001b[1;32m      2\u001b[0m \u001b[38;5;28;01mimport\u001b[39;00m \u001b[38;5;21;01mpydot\u001b[39;00m\n\u001b[1;32m      3\u001b[0m \u001b[38;5;28mprint\u001b[39m(\u001b[38;5;124mf\u001b[39m\u001b[38;5;124m'\u001b[39m\u001b[38;5;124mpygraphviz: \u001b[39m\u001b[38;5;132;01m{\u001b[39;00mpygraphviz\u001b[38;5;241m.\u001b[39m__version__\u001b[38;5;132;01m}\u001b[39;00m\u001b[38;5;124m'\u001b[39m)\n",
      "\u001b[0;31mModuleNotFoundError\u001b[0m: No module named 'pygraphviz'"
     ]
    }
   ],
   "source": [
    "import pygraphviz\n",
    "import pydot\n",
    "print(f'pygraphviz: {pygraphviz.__version__}')\n",
    "print(f'pydot: {pydot.__version__}')\n"
   ]
  },
  {
   "cell_type": "code",
   "execution_count": 48,
   "id": "6489f58b",
   "metadata": {
    "execution": {
     "iopub.execute_input": "2023-12-22T14:44:36.200188Z",
     "iopub.status.busy": "2023-12-22T14:44:36.199876Z",
     "iopub.status.idle": "2023-12-22T14:44:36.386989Z",
     "shell.execute_reply": "2023-12-22T14:44:36.386392Z"
    }
   },
   "outputs": [
    {
     "ename": "ImportError",
     "evalue": "requires pygraphviz http://pygraphviz.github.io/",
     "output_type": "error",
     "traceback": [
      "\u001b[0;31m---------------------------------------------------------------------------\u001b[0m",
      "\u001b[0;31mModuleNotFoundError\u001b[0m                       Traceback (most recent call last)",
      "File \u001b[0;32m~/opt/anaconda3/envs/elmed219-2025/lib/python3.11/site-packages/networkx/drawing/nx_agraph.py:301\u001b[0m, in \u001b[0;36mpygraphviz_layout\u001b[0;34m(G, prog, root, args)\u001b[0m\n\u001b[1;32m    300\u001b[0m \u001b[38;5;28;01mtry\u001b[39;00m:\n\u001b[0;32m--> 301\u001b[0m     \u001b[38;5;28;01mimport\u001b[39;00m \u001b[38;5;21;01mpygraphviz\u001b[39;00m\n\u001b[1;32m    302\u001b[0m \u001b[38;5;28;01mexcept\u001b[39;00m \u001b[38;5;167;01mImportError\u001b[39;00m \u001b[38;5;28;01mas\u001b[39;00m err:\n",
      "\u001b[0;31mModuleNotFoundError\u001b[0m: No module named 'pygraphviz'",
      "\nThe above exception was the direct cause of the following exception:\n",
      "\u001b[0;31mImportError\u001b[0m                               Traceback (most recent call last)",
      "Cell \u001b[0;32mIn[48], line 2\u001b[0m\n\u001b[1;32m      1\u001b[0m \u001b[38;5;28;01mfrom\u001b[39;00m \u001b[38;5;21;01mnetworkx\u001b[39;00m\u001b[38;5;21;01m.\u001b[39;00m\u001b[38;5;21;01mdrawing\u001b[39;00m\u001b[38;5;21;01m.\u001b[39;00m\u001b[38;5;21;01mnx_pydot\u001b[39;00m \u001b[38;5;28;01mimport\u001b[39;00m write_dot\n\u001b[0;32m----> 2\u001b[0m pos \u001b[38;5;241m=\u001b[39m \u001b[43mnx\u001b[49m\u001b[38;5;241;43m.\u001b[39;49m\u001b[43mnx_agraph\u001b[49m\u001b[38;5;241;43m.\u001b[39;49m\u001b[43mgraphviz_layout\u001b[49m\u001b[43m(\u001b[49m\u001b[43mG\u001b[49m\u001b[43m)\u001b[49m\n\u001b[1;32m      4\u001b[0m \u001b[38;5;66;03m# Add node numbers as labels\u001b[39;00m\n\u001b[1;32m      5\u001b[0m labels \u001b[38;5;241m=\u001b[39m {i: i \u001b[38;5;28;01mfor\u001b[39;00m i \u001b[38;5;129;01min\u001b[39;00m G\u001b[38;5;241m.\u001b[39mnodes()}\n",
      "File \u001b[0;32m~/opt/anaconda3/envs/elmed219-2025/lib/python3.11/site-packages/networkx/drawing/nx_agraph.py:257\u001b[0m, in \u001b[0;36mgraphviz_layout\u001b[0;34m(G, prog, root, args)\u001b[0m\n\u001b[1;32m    226\u001b[0m \u001b[38;5;28;01mdef\u001b[39;00m \u001b[38;5;21mgraphviz_layout\u001b[39m(G, prog\u001b[38;5;241m=\u001b[39m\u001b[38;5;124m\"\u001b[39m\u001b[38;5;124mneato\u001b[39m\u001b[38;5;124m\"\u001b[39m, root\u001b[38;5;241m=\u001b[39m\u001b[38;5;28;01mNone\u001b[39;00m, args\u001b[38;5;241m=\u001b[39m\u001b[38;5;124m\"\u001b[39m\u001b[38;5;124m\"\u001b[39m):\n\u001b[1;32m    227\u001b[0m \u001b[38;5;250m    \u001b[39m\u001b[38;5;124;03m\"\"\"Create node positions for G using Graphviz.\u001b[39;00m\n\u001b[1;32m    228\u001b[0m \n\u001b[1;32m    229\u001b[0m \u001b[38;5;124;03m    Parameters\u001b[39;00m\n\u001b[0;32m   (...)\u001b[0m\n\u001b[1;32m    255\u001b[0m \u001b[38;5;124;03m    see https://gitlab.com/graphviz/graphviz/-/issues/1767 for more info.\u001b[39;00m\n\u001b[1;32m    256\u001b[0m \u001b[38;5;124;03m    \"\"\"\u001b[39;00m\n\u001b[0;32m--> 257\u001b[0m     \u001b[38;5;28;01mreturn\u001b[39;00m \u001b[43mpygraphviz_layout\u001b[49m\u001b[43m(\u001b[49m\u001b[43mG\u001b[49m\u001b[43m,\u001b[49m\u001b[43m \u001b[49m\u001b[43mprog\u001b[49m\u001b[38;5;241;43m=\u001b[39;49m\u001b[43mprog\u001b[49m\u001b[43m,\u001b[49m\u001b[43m \u001b[49m\u001b[43mroot\u001b[49m\u001b[38;5;241;43m=\u001b[39;49m\u001b[43mroot\u001b[49m\u001b[43m,\u001b[49m\u001b[43m \u001b[49m\u001b[43margs\u001b[49m\u001b[38;5;241;43m=\u001b[39;49m\u001b[43margs\u001b[49m\u001b[43m)\u001b[49m\n",
      "File \u001b[0;32m~/opt/anaconda3/envs/elmed219-2025/lib/python3.11/site-packages/networkx/drawing/nx_agraph.py:303\u001b[0m, in \u001b[0;36mpygraphviz_layout\u001b[0;34m(G, prog, root, args)\u001b[0m\n\u001b[1;32m    301\u001b[0m     \u001b[38;5;28;01mimport\u001b[39;00m \u001b[38;5;21;01mpygraphviz\u001b[39;00m\n\u001b[1;32m    302\u001b[0m \u001b[38;5;28;01mexcept\u001b[39;00m \u001b[38;5;167;01mImportError\u001b[39;00m \u001b[38;5;28;01mas\u001b[39;00m err:\n\u001b[0;32m--> 303\u001b[0m     \u001b[38;5;28;01mraise\u001b[39;00m \u001b[38;5;167;01mImportError\u001b[39;00m(\u001b[38;5;124m\"\u001b[39m\u001b[38;5;124mrequires pygraphviz http://pygraphviz.github.io/\u001b[39m\u001b[38;5;124m\"\u001b[39m) \u001b[38;5;28;01mfrom\u001b[39;00m \u001b[38;5;21;01merr\u001b[39;00m\n\u001b[1;32m    304\u001b[0m \u001b[38;5;28;01mif\u001b[39;00m root \u001b[38;5;129;01mis\u001b[39;00m \u001b[38;5;129;01mnot\u001b[39;00m \u001b[38;5;28;01mNone\u001b[39;00m:\n\u001b[1;32m    305\u001b[0m     args \u001b[38;5;241m+\u001b[39m\u001b[38;5;241m=\u001b[39m \u001b[38;5;124mf\u001b[39m\u001b[38;5;124m\"\u001b[39m\u001b[38;5;124m-Groot=\u001b[39m\u001b[38;5;132;01m{\u001b[39;00mroot\u001b[38;5;132;01m}\u001b[39;00m\u001b[38;5;124m\"\u001b[39m\n",
      "\u001b[0;31mImportError\u001b[0m: requires pygraphviz http://pygraphviz.github.io/"
     ]
    }
   ],
   "source": [
    "from networkx.drawing.nx_pydot import write_dot\n",
    "pos = nx.nx_agraph.graphviz_layout(G)\n",
    "\n",
    "# Add node numbers as labels\n",
    "labels = {i: i for i in G.nodes()}\n",
    "nx.set_node_attributes(G, labels, 'label')\n",
    "\n",
    "# Draw the nodes\n",
    "nx.draw(G, pos=pos, with_labels=False, node_color='skyblue')\n",
    "\n",
    "# Draw the node labels\n",
    "labels = nx.get_node_attributes(G, 'label')\n",
    "nx.draw_networkx_labels(G, pos, labels=labels)\n",
    "\n",
    "# Show the plot\n",
    "plt.show()\n",
    "\n",
    "# Write to dot file\n",
    "write_dot(G, './data/file.dot')\n",
    "\n",
    "# Convert to png using system command (requires Graphviz)\n",
    "!dot -Tpng ./data/file.dot -o ./assets/file_dot.png"
   ]
  },
  {
   "cell_type": "markdown",
   "id": "b33ab24e",
   "metadata": {},
   "source": [
    "To read and draw a Graphiviz `.dot` file in Python, you can use `pydot` and `matpltlib` libraries, e.g.,"
   ]
  },
  {
   "cell_type": "code",
   "execution_count": 49,
   "id": "051b2c3e",
   "metadata": {},
   "outputs": [
    {
     "ename": "ModuleNotFoundError",
     "evalue": "No module named 'pydot'",
     "output_type": "error",
     "traceback": [
      "\u001b[0;31m---------------------------------------------------------------------------\u001b[0m",
      "\u001b[0;31mModuleNotFoundError\u001b[0m                       Traceback (most recent call last)",
      "Cell \u001b[0;32mIn[49], line 1\u001b[0m\n\u001b[0;32m----> 1\u001b[0m \u001b[38;5;28;01mimport\u001b[39;00m \u001b[38;5;21;01mpydot\u001b[39;00m\n\u001b[1;32m      2\u001b[0m \u001b[38;5;28;01mimport\u001b[39;00m \u001b[38;5;21;01mmatplotlib\u001b[39;00m\u001b[38;5;21;01m.\u001b[39;00m\u001b[38;5;21;01mpyplot\u001b[39;00m \u001b[38;5;28;01mas\u001b[39;00m \u001b[38;5;21;01mplt\u001b[39;00m\n\u001b[1;32m      3\u001b[0m \u001b[38;5;28;01mimport\u001b[39;00m \u001b[38;5;21;01mmatplotlib\u001b[39;00m\u001b[38;5;21;01m.\u001b[39;00m\u001b[38;5;21;01mimage\u001b[39;00m \u001b[38;5;28;01mas\u001b[39;00m \u001b[38;5;21;01mmpimg\u001b[39;00m\n",
      "\u001b[0;31mModuleNotFoundError\u001b[0m: No module named 'pydot'"
     ]
    }
   ],
   "source": [
    "import pydot\n",
    "import matplotlib.pyplot as plt\n",
    "import matplotlib.image as mpimg\n",
    "import numpy as np\n",
    "from scipy import ndimage\n",
    "\n",
    "# Read the converted to png-file used by the system command that required Graphviz\n",
    "img = mpimg.imread('./data/file_dot.png')\n",
    "\n",
    "# ALTERNATIVELY:\n",
    "# ----\n",
    "# Load .dot file and create a graph from it\n",
    "#graphs = pydot.graph_from_dot_file('./assets/file.dot')\n",
    "#graph = graphs[0]\n",
    "\n",
    "# Create png from the graph\n",
    "##graph.write_png('./assets/temp.png')\n",
    "\n",
    "# Read the png file \n",
    "#img = mpimg.imread('./assets/temp.png')\n",
    "# -----\n",
    "\n",
    "# Rotate the image 90 degrees\n",
    "rotated_img = ndimage.rotate(img, 90)\n",
    "\n",
    "# Normalize the pixel values\n",
    "rotated_img = rotated_img / rotated_img.max()\n",
    "\n",
    "# Clip the pixel values\n",
    "rotated_img = np.clip(rotated_img, 0, 1)\n",
    "\n",
    "# Display the rotated image\n",
    "plt.figure(figsize=(10, 10))\n",
    "imgplot = plt.imshow(rotated_img)\n",
    "plt.axis('off')\n",
    "plt.show()\n"
   ]
  },
  {
   "cell_type": "markdown",
   "id": "999a1a94",
   "metadata": {},
   "source": [
    "See Drawing for additional details.\n",
    "\n",
    "# NX-Guides\n",
    "\n",
    "If you are interested in learning more about NetworkX, graph theory and network analysis\n",
    "then you should check out [nx-guides](https://networkx.org/nx-guides/index.html). There you can find tutorials,\n",
    "real-world applications and in-depth examinations of graphs and network algorithms.\n",
    "All the material is official and was developed and curated by the NetworkX community."
   ]
  }
 ],
 "metadata": {
  "kernelspec": {
   "display_name": "elmed219",
   "language": "python",
   "name": "python3"
  },
  "language_info": {
   "codemirror_mode": {
    "name": "ipython",
    "version": 3
   },
   "file_extension": ".py",
   "mimetype": "text/x-python",
   "name": "python",
   "nbconvert_exporter": "python",
   "pygments_lexer": "ipython3",
   "version": "3.11.11"
  }
 },
 "nbformat": 4,
 "nbformat_minor": 5
}
